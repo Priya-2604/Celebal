{
  "nbformat": 4,
  "nbformat_minor": 0,
  "metadata": {
    "colab": {
      "name": "assignment_week3.ipynb",
      "provenance": [],
      "authorship_tag": "ABX9TyOAkcXjED+l6k5aMW+thAM5",
      "include_colab_link": true
    },
    "kernelspec": {
      "name": "python3",
      "display_name": "Python 3"
    },
    "language_info": {
      "name": "python"
    }
  },
  "cells": [
    {
      "cell_type": "markdown",
      "metadata": {
        "id": "view-in-github",
        "colab_type": "text"
      },
      "source": [
        "<a href=\"https://colab.research.google.com/github/Priya-2604/Celebal/blob/main/assignment_week3.ipynb\" target=\"_parent\"><img src=\"https://colab.research.google.com/assets/colab-badge.svg\" alt=\"Open In Colab\"/></a>"
      ]
    },
    {
      "cell_type": "code",
      "execution_count": null,
      "metadata": {
        "colab": {
          "base_uri": "https://localhost:8080/"
        },
        "id": "sN14SawkwgqJ",
        "outputId": "602ab04a-3587-4bb8-cd50-c678eb3dfa8c"
      },
      "outputs": [
        {
          "output_type": "stream",
          "name": "stdout",
          "text": [
            "Integer list: [1, 2, 3, 4, 5, 6]\n",
            "String list: ['Apple', 'Mango', 'Banana', 'Orange']\n"
          ]
        }
      ],
      "source": [
        "# Creating a list\n",
        "\n",
        "l1=[1,2,3,4,5,6]\n",
        "l2=['Apple','Mango','Banana',\"Orange\"] #python can stored value in both quotation.\n",
        "print(\"Integer list:\",l1)\n",
        "print(\"String list:\",l2)"
      ]
    },
    {
      "cell_type": "code",
      "source": [
        "# List slicing\n",
        "\n",
        "l1=[1,2,3,4,5,6,7,8,9,10]\n",
        "print(\"Current list:\",l1)\n",
        "\n",
        "print(\"Index 1 value:\",l1[1])\n",
        "\n",
        "print(\"Index b/w 1:6\",l1[1:6])\n",
        "\n",
        "print(\"Index till 6\",l1[:6])\n",
        "\n",
        "print(\"Last value\",l1[-1])"
      ],
      "metadata": {
        "colab": {
          "base_uri": "https://localhost:8080/"
        },
        "id": "W-mqTpmYwwug",
        "outputId": "9385ece4-bdb0-4b04-b40b-c7cce9588b2c"
      },
      "execution_count": null,
      "outputs": [
        {
          "output_type": "stream",
          "name": "stdout",
          "text": [
            "Current list: [1, 2, 3, 4, 5, 6, 7, 8, 9, 10]\n",
            "Index 1 value: 2\n",
            "Index b/w 1:6 [2, 3, 4, 5, 6]\n",
            "Index till 6 [1, 2, 3, 4, 5, 6]\n",
            "Last value 10\n"
          ]
        }
      ]
    },
    {
      "cell_type": "markdown",
      "source": [
        "Converting Tuple into list:"
      ],
      "metadata": {
        "id": "vYs6CvaGx9bg"
      }
    },
    {
      "cell_type": "code",
      "source": [
        "t1=(\"Apple\",\"Mango\",\"Cherry\") \n",
        "print(t1)\n",
        "type(t1)\n",
        "x=list(t1)\n",
        "print(x)\n",
        "type(x)\n",
        "x[1]=\"Kiwi\"\n",
        "print(\"Updated list:\",x)\n",
        "y=tuple(x)\n",
        "print(\"Updated Tuple:\",y)"
      ],
      "metadata": {
        "colab": {
          "base_uri": "https://localhost:8080/"
        },
        "id": "L5U6PRz_w6-8",
        "outputId": "f5bd16af-26ec-4ee9-b493-c15ee64f2f53"
      },
      "execution_count": null,
      "outputs": [
        {
          "output_type": "stream",
          "name": "stdout",
          "text": [
            "('Apple', 'Mango', 'Cherry')\n",
            "['Apple', 'Mango', 'Cherry']\n",
            "Updated list: ['Apple', 'Kiwi', 'Cherry']\n",
            "Updated Tuple: ('Apple', 'Kiwi', 'Cherry')\n"
          ]
        }
      ]
    },
    {
      "cell_type": "code",
      "source": [
        "# while loop with tuple\n",
        "\n",
        "t1=(\"Apple\",\"Mango\",\"Cherry\")\n",
        "i=0\n",
        "while i<len(t1):\n",
        "    print(t1[i])\n",
        "    i=i+1\n",
        "else:\n",
        "    print(\"Loop finish\")"
      ],
      "metadata": {
        "colab": {
          "base_uri": "https://localhost:8080/"
        },
        "id": "WcMFOpvexCsk",
        "outputId": "783a48d3-e1a3-4fa7-e1eb-87d2cdbed505"
      },
      "execution_count": null,
      "outputs": [
        {
          "output_type": "stream",
          "name": "stdout",
          "text": [
            "Apple\n",
            "Mango\n",
            "Cherry\n",
            "Loop finish\n"
          ]
        }
      ]
    },
    {
      "cell_type": "markdown",
      "source": [
        "To compare Tuples:"
      ],
      "metadata": {
        "id": "RprSzKGoyH4Z"
      }
    },
    {
      "cell_type": "code",
      "source": [
        "t1=(1,2,3)\n",
        "t2=(1,2,4)\n",
        "print(t1==t2)\n",
        "\n",
        "print(t1<t2)\n",
        "\n",
        "print(t1>t2)"
      ],
      "metadata": {
        "colab": {
          "base_uri": "https://localhost:8080/"
        },
        "id": "gejUrrvXxOPi",
        "outputId": "82abe1cc-6350-4ee6-eaab-b269a5a47276"
      },
      "execution_count": null,
      "outputs": [
        {
          "output_type": "stream",
          "name": "stdout",
          "text": [
            "False\n",
            "True\n",
            "False\n"
          ]
        }
      ]
    },
    {
      "cell_type": "code",
      "source": [
        "# Access the value of dictionary\n",
        "\n",
        "d1={1:\"C\",2:\"java\",3:\"Python\",'A':'B',\"fruit\":\"Apple\"}\n",
        "print(d1)\n",
        "x=d1[3]\n",
        "print(x)\n",
        "\n",
        "# acces the value using get()\n",
        "\n",
        "y=d1.get(1)\n",
        "print(y)\n",
        "\n",
        "# Access the value using item()\n",
        " #(Tuple into a list)\n",
        "z=d1.items()\n",
        "print(z)\n",
        "\n",
        "# Access the only keys fron dictionary\n",
        "k=d1.keys()\n",
        "print(k)\n",
        "\n",
        "# Access the only values fron dictionary\n",
        "v=d1.values()\n",
        "print(v)"
      ],
      "metadata": {
        "colab": {
          "base_uri": "https://localhost:8080/"
        },
        "id": "zszNHPd_xUwa",
        "outputId": "20e8dc4f-464e-4063-d511-686e93851810"
      },
      "execution_count": null,
      "outputs": [
        {
          "output_type": "stream",
          "name": "stdout",
          "text": [
            "{1: 'C', 2: 'java', 3: 'Python', 'A': 'B', 'fruit': 'Apple'}\n",
            "Python\n",
            "C\n",
            "dict_items([(1, 'C'), (2, 'java'), (3, 'Python'), ('A', 'B'), ('fruit', 'Apple')])\n",
            "dict_keys([1, 2, 3, 'A', 'fruit'])\n",
            "dict_values(['C', 'java', 'Python', 'B', 'Apple'])\n"
          ]
        }
      ]
    },
    {
      "cell_type": "code",
      "source": [
        "# 1] Write a program to convert tuple into list\n",
        "\n",
        "tuple=(1,2,3,4)\n",
        "print(tuple)\n",
        "\n",
        "list=list(tuple)\n",
        "print(list)"
      ],
      "metadata": {
        "colab": {
          "base_uri": "https://localhost:8080/"
        },
        "id": "BdzphyGPxW8U",
        "outputId": "68227597-6160-421e-cc99-9edc6d5fadeb"
      },
      "execution_count": null,
      "outputs": [
        {
          "output_type": "stream",
          "name": "stdout",
          "text": [
            "(1, 2, 3, 4)\n",
            "[1, 2, 3, 4]\n"
          ]
        }
      ]
    },
    {
      "cell_type": "code",
      "source": [
        "# 2] Write a program to count element in given tuple(1,2,3,4,5,6,7,8).\n",
        "\n",
        "tuple=(1,2,3,4,5,6,7,8)\n",
        "print(tuple)\n",
        "a=tuple.count(2)\n",
        "print(a)"
      ],
      "metadata": {
        "colab": {
          "base_uri": "https://localhost:8080/"
        },
        "id": "s6hEGA16xg0k",
        "outputId": "35a73201-80be-4e79-de0d-19be43f3c4dd"
      },
      "execution_count": null,
      "outputs": [
        {
          "output_type": "stream",
          "name": "stdout",
          "text": [
            "(1, 2, 3, 4, 5, 6, 7, 8)\n",
            "1\n"
          ]
        }
      ]
    },
    {
      "cell_type": "code",
      "source": [
        "# 3] Write a program to insert the element \"Python\" on index 2 in the given list[\"Java\",\"Php\",\".Net\",\"Angular\"]\n",
        "\n",
        "list=[\"Java\",\"Php\",\".Net\",\"Angular\"]\n",
        "print(list)\n",
        "list.insert(2,\"Python\")\n",
        "print(list)"
      ],
      "metadata": {
        "colab": {
          "base_uri": "https://localhost:8080/"
        },
        "id": "HQJJx_y6xitv",
        "outputId": "b93487a9-a8a5-407f-85dc-b34397f531c5"
      },
      "execution_count": null,
      "outputs": [
        {
          "output_type": "stream",
          "name": "stdout",
          "text": [
            "['Java', 'Php', '.Net', 'Angular']\n",
            "['Java', 'Php', 'Python', '.Net', 'Angular']\n"
          ]
        }
      ]
    },
    {
      "cell_type": "code",
      "source": [
        "# 4] Write a program to remove the element \"3\" from the given list [1,2,3,4,5,6]\n",
        "\n",
        "list=[1,2,3,4,5,6]\n",
        "print(list)\n",
        "list.pop(2)\n",
        "print(\"Updated list:\",list)"
      ],
      "metadata": {
        "colab": {
          "base_uri": "https://localhost:8080/"
        },
        "id": "a5gnm7x_xphw",
        "outputId": "2bb08ca1-74f6-4c09-862a-94f584508a81"
      },
      "execution_count": null,
      "outputs": [
        {
          "output_type": "stream",
          "name": "stdout",
          "text": [
            "[1, 2, 3, 4, 5, 6]\n",
            "Updated list: [1, 2, 4, 5, 6]\n"
          ]
        }
      ]
    }
  ]
}