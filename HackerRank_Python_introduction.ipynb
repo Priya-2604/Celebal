{
  "nbformat": 4,
  "nbformat_minor": 0,
  "metadata": {
    "colab": {
      "name": "HackerRank_Python_introduction.ipynb",
      "provenance": [],
      "authorship_tag": "ABX9TyM8iuMW/tRV2i+L/25jwnDx",
      "include_colab_link": true
    },
    "kernelspec": {
      "name": "python3",
      "display_name": "Python 3"
    },
    "language_info": {
      "name": "python"
    }
  },
  "cells": [
    {
      "cell_type": "markdown",
      "metadata": {
        "id": "view-in-github",
        "colab_type": "text"
      },
      "source": [
        "<a href=\"https://colab.research.google.com/github/Priya-2604/Celebal/blob/main/HackerRank_Python_introduction.ipynb\" target=\"_parent\"><img src=\"https://colab.research.google.com/assets/colab-badge.svg\" alt=\"Open In Colab\"/></a>"
      ]
    },
    {
      "cell_type": "markdown",
      "source": [
        "Print\"Hello, World!\" Program"
      ],
      "metadata": {
        "id": "v-_vFlTTX6vL"
      }
    },
    {
      "cell_type": "code",
      "source": [
        "print \"Hello, World!\"\n"
      ],
      "metadata": {
        "id": "F3s9-qg4YPfc"
      },
      "execution_count": null,
      "outputs": []
    },
    {
      "cell_type": "markdown",
      "source": [
        "# Python if_else\n",
        "Given an integer,n , perform the following conditional actions:\n",
        "\n",
        "If n is odd, print Weird\n",
        "If n is even and in the inclusive range of 2 to 5, print Not Weird\n",
        "If n is even and in the inclusive range of 6 to 20, print Weird\n",
        "If n is even and greater than 20, print Not Weird"
      ],
      "metadata": {
        "id": "tU7853pxYcv3"
      }
    },
    {
      "cell_type": "code",
      "source": [
        "\n",
        "import math\n",
        "import os\n",
        "import random\n",
        "import re\n",
        "import sys\n",
        "\n",
        "\n",
        "\n",
        "if __name__ == '__main__':\n",
        "    n = int(raw_input().strip())\n",
        "if n%2!=0:\n",
        "    print(\"Weird\")\n",
        "elif n>=2 and n<=5:\n",
        "    print(\"Not Weird\")\n",
        "elif n>=6 and n<=20:\n",
        "    print(\"Weird\")\n",
        "elif n>20:\n",
        "    print(\"Not Weird\")            \n"
      ],
      "metadata": {
        "id": "iia__oH8YFjf"
      },
      "execution_count": null,
      "outputs": []
    },
    {
      "cell_type": "markdown",
      "source": [
        "# Arthmetic Operators\n",
        "The provided code stub reads two integers from STDIN, a and b. Add code to print three lines where:\n",
        "\n",
        "1.The first line contains the sum of the two numbers.\n",
        "2.The second line contains the difference of the two numbers (first - second).\n",
        "3.The third line contains the product of the two numbers."
      ],
      "metadata": {
        "id": "WyiAQs2OY9iJ"
      }
    },
    {
      "cell_type": "code",
      "source": [
        "if __name__ == '__main__':\n",
        "    a = int(raw_input())\n",
        "    b = int(raw_input())\n",
        "    \n",
        "c=a+b\n",
        "d=a-b\n",
        "e=a*b\n",
        "print(\"%d\\n%d\\n%d\\n\"%(c,d,e))    \n"
      ],
      "metadata": {
        "id": "qG-lU0rDZMLr"
      },
      "execution_count": null,
      "outputs": []
    },
    {
      "cell_type": "markdown",
      "source": [
        "# Python:Division\n",
        "The provided code stub reads two integers, a and b, from STDIN.\n",
        "\n",
        "Add logic to print two lines. The first line should contain the result of integer division, a // b. The second line should contain the result of float division, a / b.\n",
        "\n",
        "No rounding or formatting is necessary."
      ],
      "metadata": {
        "id": "dKCYs2QbZZOx"
      }
    },
    {
      "cell_type": "code",
      "source": [
        "from __future__ import division\n",
        "\n",
        "if __name__ == '__main__':\n",
        "    a = int(raw_input())\n",
        "    b = int(raw_input())\n",
        "\n",
        "c=a//b\n",
        "d=a/b\n",
        "print(\"%d\\n%f\\n\"%(c,d))\n"
      ],
      "metadata": {
        "id": "UNrWFZuoZp62"
      },
      "execution_count": null,
      "outputs": []
    },
    {
      "cell_type": "markdown",
      "source": [
        "# Loops\n",
        "The provided code stub reads and integer,n , from STDIN. For all non-negative integers i<n, print i^2 ."
      ],
      "metadata": {
        "id": "OrUaYJVgZz-R"
      }
    },
    {
      "cell_type": "code",
      "source": [
        "if __name__ == '__main__':\n",
        "    n = int(raw_input())\n",
        "       \n",
        "for i in range(n):\n",
        "    print i*i  \n"
      ],
      "metadata": {
        "id": "nXXt3kx_aG-W"
      },
      "execution_count": null,
      "outputs": []
    },
    {
      "cell_type": "markdown",
      "source": [
        "# Print Function\n",
        "The included code stub will read an integer,n , from STDIN.\n",
        "\n",
        "Without using any string methods, try to print the following:\n",
        "123...n\n",
        "\n",
        "Note that \"...\" represents the consecutive values in between."
      ],
      "metadata": {
        "id": "amxgCj4vaO3P"
      }
    },
    {
      "cell_type": "code",
      "source": [
        "from __future__ import print_function\n",
        "\n",
        "if __name__ == '__main__':\n",
        "    n = int(raw_input())\n",
        "\n",
        "for i in range(1,n+1):\n",
        "    print(i,end=\"\")\n",
        "    "
      ],
      "metadata": {
        "id": "9yLZgl7VadMO"
      },
      "execution_count": null,
      "outputs": []
    },
    {
      "cell_type": "markdown",
      "source": [
        "# Write a Function\n",
        "Given a year, determine whether it is a leap year. If it is a leap year, return the Boolean True, otherwise return False.\n",
        "\n",
        "Note that the code stub provided reads from STDIN and passes arguments to the is_leap function. It is only necessary to complete the is_leap function."
      ],
      "metadata": {
        "id": "V_cso866auB1"
      }
    },
    {
      "cell_type": "code",
      "source": [
        "def is_leap(year):\n",
        "    leap=False\n",
        "    \n",
        "    \n",
        "    if year%400 ==0:\n",
        "        leap=True\n",
        "    elif year%100 ==0:\n",
        "        leap=False\n",
        "    elif year%4 ==0:\n",
        "        leap=True   \n",
        "    return leap           \n"
      ],
      "metadata": {
        "id": "BgVHJtGaa29u"
      },
      "execution_count": null,
      "outputs": []
    }
  ]
}