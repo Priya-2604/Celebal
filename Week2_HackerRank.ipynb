{
  "nbformat": 4,
  "nbformat_minor": 0,
  "metadata": {
    "colab": {
      "name": "Week2_HackerRank.ipynb",
      "provenance": [],
      "authorship_tag": "ABX9TyP0e9djSYFLbNPIxZLUy4R0",
      "include_colab_link": true
    },
    "kernelspec": {
      "name": "python3",
      "display_name": "Python 3"
    },
    "language_info": {
      "name": "python"
    }
  },
  "cells": [
    {
      "cell_type": "markdown",
      "metadata": {
        "id": "view-in-github",
        "colab_type": "text"
      },
      "source": [
        "<a href=\"https://colab.research.google.com/github/Priya-2604/Celebal/blob/main/Week2_HackerRank.ipynb\" target=\"_parent\"><img src=\"https://colab.research.google.com/assets/colab-badge.svg\" alt=\"Open In Colab\"/></a>"
      ]
    },
    {
      "cell_type": "markdown",
      "source": [
        "# The Minion Game\n",
        "Both players are given the same string, S.\n",
        "Both players have to make substrings using the letters of the string S.\n",
        "Stuart has to make words starting with consonants.\n",
        "Kevin has to make words starting with vowels.\n",
        "The game ends when both players have made all possible substrings."
      ],
      "metadata": {
        "id": "3bRxL3HUzybW"
      }
    },
    {
      "cell_type": "code",
      "source": [
        "def minion_game(string):\n",
        "    # your code goes here\n",
        "\n",
        "    vowel = 'aeiou'.upper()\n",
        "    strl = len(string)\n",
        "    kevin = sum(strl-i for i in range(strl) if string[i] in vowel)\n",
        "    stuart = strl*(strl + 1)/2 - kevin\n",
        "    if kevin == stuart:\n",
        "        print ('Draw')\n",
        "    elif kevin > stuart:\n",
        "        print ('Kevin %d' % kevin)\n",
        "    else:\n",
        "        print ('Stuart %d' % stuart)\n"
      ],
      "metadata": {
        "id": "Y2BJ_MYgz8e6"
      },
      "execution_count": null,
      "outputs": []
    },
    {
      "cell_type": "markdown",
      "source": [
        "# Mutations\n",
        "We have seen that lists are mutable (they can be changed), and tuples are immutable (they cannot be changed).\n",
        "\n",
        "Let's try to understand this with an example.\n",
        "\n",
        "You are given an immutable string, and you want to make changes to it."
      ],
      "metadata": {
        "id": "yw80pUHV0EbR"
      }
    },
    {
      "cell_type": "code",
      "source": [
        "def mutate_string(string, position, character):\n",
        "    return string[:position]+character+string[position+1:]\n",
        "\n"
      ],
      "metadata": {
        "id": "pp0nFFxG0O8Y"
      },
      "execution_count": null,
      "outputs": []
    },
    {
      "cell_type": "markdown",
      "source": [
        "# Find a String\n",
        "In this challenge, the user enters a string and a substring. You have to print the number of times that the substring occurs in the given string. String traversal will take place from left to right, not from right to left."
      ],
      "metadata": {
        "id": "PuhvzlZT0Xqk"
      }
    },
    {
      "cell_type": "code",
      "source": [
        "def count_substring(string, sub_string):\n",
        "    ml=len(string)\n",
        "    sl=len(sub_string)\n",
        "    c=0\n",
        "    for i in range(ml-sl+1):\n",
        "        if(string[i:(i+sl)])==sub_string:\n",
        "            c=c+1\n",
        "    return c"
      ],
      "metadata": {
        "id": "Wb7E-gdP0go6"
      },
      "execution_count": null,
      "outputs": []
    },
    {
      "cell_type": "markdown",
      "source": [
        "# List Comprehensions\n",
        "Let's learn about list comprehensions! You are given three integers x,y  and z  representing the dimensions of a cuboid along with an integer n. Print a list of all possible coordinates given by (i,j,k) on a 3D grid where the sum of i+j+k is not equal to n. Here,0<=i<=x;0<=j<=y;0<=k<=z . Please use list comprehensions rather than multiple loops, as a learning exercise."
      ],
      "metadata": {
        "id": "PJMFGwjW0pxy"
      }
    },
    {
      "cell_type": "code",
      "source": [
        "if __name__ == '__main__':\n",
        "    x = int(input())\n",
        "    y = int(input())\n",
        "    z = int(input())\n",
        "    n = int(input())\n",
        "print( [[i,j,k] for i in range( x + 1) for j in range( y + 1) for k in range(z+1) if ( ( i + j + k ) != n )  ])\n",
        " \n"
      ],
      "metadata": {
        "id": "r9n2-8bj1Z0U"
      },
      "execution_count": null,
      "outputs": []
    },
    {
      "cell_type": "markdown",
      "source": [
        "# Find the Runner-Up Score!\n",
        "Given the participants' score sheet for your University Sports Day, you are required to find the runner-up score. You are given n scores. Store them in a list and find the score of the runner-up."
      ],
      "metadata": {
        "id": "FH2hSUyK1hCT"
      }
    },
    {
      "cell_type": "code",
      "source": [
        "if __name__ == '__main__':\n",
        "    n = int(raw_input())\n",
        "    arr = map(int, raw_input().split())\n",
        "    \n",
        "    a= max(arr)\n",
        "    c=arr.count(a)\n",
        "    for i in range(c):\n",
        "        arr.remove(a)\n",
        "    print(max(arr))\n"
      ],
      "metadata": {
        "id": "33OXj6Bb1n9d"
      },
      "execution_count": null,
      "outputs": []
    },
    {
      "cell_type": "markdown",
      "source": [
        "# Finding the Percentage\n",
        "The provided code stub will read in a dictionary containing key/value pairs of name:[marks] for a list of students. Print the average of the marks array for the student name provided, showing 2 places after the decimal."
      ],
      "metadata": {
        "id": "PweDG8rj1tPi"
      }
    },
    {
      "cell_type": "code",
      "source": [
        "if __name__ == '__main__':\n",
        "    n = int(input())\n",
        "    student_marks = {}\n",
        "    for _ in range(n):\n",
        "        name, *line = input().split()\n",
        "        scores = list(map(float, line))\n",
        "        student_marks[name] = scores\n",
        "    query_name = input()\n",
        "    \n",
        "    s=0\n",
        "     \n",
        "    for i in student_marks[query_name]:\n",
        "         s=s+i\n",
        "    print(\"{0:.2f}\".format(s/3))\n"
      ],
      "metadata": {
        "id": "lP69r5E_10NG"
      },
      "execution_count": null,
      "outputs": []
    }
  ]
}